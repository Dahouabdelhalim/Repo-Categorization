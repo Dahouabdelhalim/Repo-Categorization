{
  "nbformat": 4,
  "nbformat_minor": 0,
  "metadata": {
    "colab": {
      "provenance": []
    },
    "kernelspec": {
      "name": "python3",
      "display_name": "Python 3"
    },
    "language_info": {
      "name": "python"
    }
  },
  "cells": [
    {
      "cell_type": "code",
      "execution_count": null,
      "metadata": {
        "id": "otU4bcNZZsAa"
      },
      "outputs": [],
      "source": [
        "!pip install openai==0.28"
      ]
    },
    {
      "cell_type": "code",
      "source": [
        "# Note: you need to be using OpenAI Python v0.27.0 for the code below to work\n",
        "import openai\n",
        "from time import sleep\n",
        "from tqdm import tqdm\n",
        "import ast\n",
        "import pandas as pd\n",
        "openai.api_key = 'xxxx'\n",
        "df = pd.read_csv('test.csv', sep=',')"
      ],
      "metadata": {
        "id": "sD42KdDiZ3qD"
      },
      "execution_count": null,
      "outputs": []
    },
    {
      "cell_type": "code",
      "source": [
        "df.head(5)"
      ],
      "metadata": {
        "id": "c9LfTJLhgLY7"
      },
      "execution_count": null,
      "outputs": []
    },
    {
      "cell_type": "code",
      "source": [
        "zero = []"
      ],
      "metadata": {
        "id": "UMov-4rXLacl"
      },
      "execution_count": null,
      "outputs": []
    },
    {
      "cell_type": "code",
      "source": [
        "%%capture\n",
        "i=0 #start from\n",
        "sequence_to_classify = str(df['Paper'][i]) + '' + str(df['keywords'][i]) # Forth experiment TDK\n",
        "prompt = 'Classify this repository information into one of the following classes: [Bioinformatics, Environmental Science, Social Sciences, Statistics and Data Analysis, Economics]: ' + sequence_to_classify\n",
        "while i <= len(df):\n",
        "  message = prompt +': '+ str(df['text'][i])\n",
        "  response = openai.ChatCompletion.create(\n",
        "      model=\"gpt-4\",\n",
        "      messages=[\n",
        "            {\"role\": \"user\", \"content\": message},\n",
        "        ],max_tokens=3, request_timeout=30)\n",
        "  zero.append(response['choices'][0]['message']['content'])\n",
        "  i+=1"
      ],
      "metadata": {
        "id": "ibXldiCeZ-Ss"
      },
      "execution_count": null,
      "outputs": []
    },
    {
      "cell_type": "code",
      "source": [
        "df['Zero-shot'] = zero\n",
        "df.to_csv('test_results.csv', index=False)"
      ],
      "metadata": {
        "id": "pX918NKwLd8b"
      },
      "execution_count": null,
      "outputs": []
    }
  ]
}